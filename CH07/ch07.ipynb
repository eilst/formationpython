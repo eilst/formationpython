{
 "cells": [
  {
   "cell_type": "markdown",
   "metadata": {},
   "source": [
    "<div class=\"container\">\n",
    "\n",
    "<nav id=\"TOC\">\n",
    "\n",
    "*   [<span class=\"toc-section-number\">1</span> Gestion de fichiers textes](#gestion-de-fichiers-textes)\n",
    "    *   [<span class=\"toc-section-number\">1.1</span> Lire un fichier](#lire-un-fichier)\n",
    "    *   [<span class=\"toc-section-number\">1.2</span> Écrire dans un fichier](#écrire-dans-un-fichier)\n",
    "\n",
    "</nav>\n",
    "\n",
    "# <span class=\"header-section-number\">1</span> Gestion de fichiers textes\n",
    "\n",
    "La fonction globale [`open`](https://docs.python.org/3/library/functions.html#open) retourne un objet fichier. On l’utilise souvent avec seulement deux paramètres: le nom du fichier et le mode.\n",
    "\n",
    "## <span class=\"header-section-number\">1.1</span> Lire un fichier\n",
    "\n",
    "    >>> f = open('mon_fichier', 'r')\n",
    "    >>> lignes = f.readlines()\n",
    "    >>> f.close()\n",
    "\n",
    "## <span class=\"header-section-number\">1.2</span> Écrire dans un fichier\n",
    "\n",
    "    >>> f = open('mon_fichier', 'w')\n",
    "    >>> f.write('test')\n",
    "    >>> f.close()\n",
    "\n",
    "</div>\n",
    "\n",
    "<script type=\"text/javascript\">$(function() { $(\".solution\").css(\"visibility\", \"hidden\"); $(\".btn-solution\").click(function(e) { e.preventDefault(); $(this).parent().next(\".solution\").css('visibility', 'visible'); }); });</script>"
   ]
  },
  {
   "cell_type": "code",
   "execution_count": null,
   "metadata": {},
   "outputs": [],
   "source": []
  }
 ],
 "metadata": {
  "kernelspec": {
   "display_name": "Python 3",
   "language": "python",
   "name": "python3"
  },
  "language_info": {
   "codemirror_mode": {
    "name": "ipython",
    "version": 3
   },
   "file_extension": ".py",
   "mimetype": "text/x-python",
   "name": "python",
   "nbconvert_exporter": "python",
   "pygments_lexer": "ipython3",
   "version": "3.7.3"
  }
 },
 "nbformat": 4,
 "nbformat_minor": 4
}
