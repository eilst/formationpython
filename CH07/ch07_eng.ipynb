{
 "cells": [
  {
   "cell_type": "markdown",
   "metadata": {},
   "source": [
    "<div class=\"container\">\n",
    "\n",
    "<nav id=\"TOC\">\n",
    "\n",
    "*   <span class=\"toc-section-number\">1</span> Text files management\n",
    "    *   <span class=\"toc-section-number\">1.1</span> Read a text file\n",
    "    *   <span class=\"toc-section-number\">1.2</span> Write to a text file\n",
    "\n",
    "</nav>\n",
    "\n",
    "# <span class=\"header-section-number\">1</span> Text files management\n",
    "\n",
    "The global function[`open`](https://docs.python.org/3/library/functions.html#open) returns a file object. It is often used with only two parameters: the file name and the mode.\n",
    "\n",
    "## <span class=\"header-section-number\">1.1</span> Read a text file"
   ]
  },
  {
   "cell_type": "code",
   "execution_count": 3,
   "metadata": {},
   "outputs": [
    {
     "data": {
      "text/plain": [
       "['Hey']"
      ]
     },
     "execution_count": 3,
     "metadata": {},
     "output_type": "execute_result"
    }
   ],
   "source": [
    "    >>> f = open('mon.txt', 'r')\n",
    "    >>> lignes = f.readlines()\n",
    "    >>> f.close()"
   ]
  },
  {
   "cell_type": "markdown",
   "metadata": {},
   "source": [
    "## <span class=\"header-section-number\">1.2</span> Write to a text file"
   ]
  },
  {
   "cell_type": "code",
   "execution_count": 6,
   "metadata": {},
   "outputs": [],
   "source": [
    "    >>> f = open('mon.txt', 'w')\n",
    "    >>> f.write('test')\n",
    "    >>> f.close()"
   ]
  },
  {
   "cell_type": "code",
   "execution_count": null,
   "metadata": {},
   "outputs": [],
   "source": []
  }
 ],
 "metadata": {
  "kernelspec": {
   "display_name": "Python 3",
   "language": "python",
   "name": "python3"
  },
  "language_info": {
   "codemirror_mode": {
    "name": "ipython",
    "version": 3
   },
   "file_extension": ".py",
   "mimetype": "text/x-python",
   "name": "python",
   "nbconvert_exporter": "python",
   "pygments_lexer": "ipython3",
   "version": "3.7.3"
  }
 },
 "nbformat": 4,
 "nbformat_minor": 4
}
