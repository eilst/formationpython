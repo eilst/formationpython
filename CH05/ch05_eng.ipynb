{
 "cells": [
  {
   "cell_type": "markdown",
   "metadata": {},
   "source": [
    "<div class=\"container\">\n",
    "\n",
    "<nav id=\"TOC\">\n",
    "\n",
    "*   <span class=\"toc-section-number\">1</span> Object Oriented Programming\n",
    "    *    <span class=\"toc-section-number\">1.1</span> Special Methods\n",
    "    *    <span class=\"toc-section-number\">1.2</span> Inheritance\n",
    "    *    <span class=\"toc-section-number\">1.3</span> Class and static methods\n",
    "\n",
    "</nav>\n",
    "\n",
    "# <span class=\"header-section-number\">1</span> Object Oriented Programming\n",
    "\n",
    "We define a class with `class`:"
   ]
  },
  {
   "cell_type": "code",
   "execution_count": 2,
   "metadata": {},
   "outputs": [],
   "source": [
    "    class Compte:\n",
    "        def __init__(self):\n",
    "            self.balance = 0\n",
    "\n",
    "        def deposer(self, montant):\n",
    "            if montant > 0:\n",
    "                self.balance += montant\n",
    "\n",
    "        def retirer(self, montant):\n",
    "            if montant > 0 and montant <= self.balance:\n",
    "                self.balance -= montant"
   ]
  },
  {
   "cell_type": "markdown",
   "metadata": {},
   "source": [
    "Usage example:"
   ]
  },
  {
   "cell_type": "code",
   "execution_count": 3,
   "metadata": {},
   "outputs": [],
   "source": [
    "    >>> compte = Compte()"
   ]
  },
  {
   "cell_type": "code",
   "execution_count": 8,
   "metadata": {},
   "outputs": [],
   "source": [
    "compte.retirer(5)\n"
   ]
  },
  {
   "cell_type": "code",
   "execution_count": null,
   "metadata": {},
   "outputs": [],
   "source": [
    "    >>> compte.balance"
   ]
  },
  {
   "cell_type": "code",
   "execution_count": 12,
   "metadata": {},
   "outputs": [
    {
     "data": {
      "text/plain": [
       "__main__.Compte"
      ]
     },
     "execution_count": 12,
     "metadata": {},
     "output_type": "execute_result"
    }
   ],
   "source": [
    "type(compte)"
   ]
  },
  {
   "cell_type": "code",
   "execution_count": 38,
   "metadata": {},
   "outputs": [
    {
     "data": {
      "text/plain": [
       "7"
      ]
     },
     "execution_count": 38,
     "metadata": {},
     "output_type": "execute_result"
    }
   ],
   "source": [
    "    0\n",
    "    >>> compte.deposer(10)\n",
    "    >>> compte.balance\n",
    "    10\n",
    "    >>> compte.retirer(3)\n",
    "    >>> compte.balance\n",
    " "
   ]
  },
  {
   "cell_type": "markdown",
   "metadata": {},
   "source": [
    "To signal that a method or attribute is private, we prefix it with `_`:"
   ]
  },
  {
   "cell_type": "code",
   "execution_count": 13,
   "metadata": {},
   "outputs": [],
   "source": [
    "    class Compte:\n",
    "        def __init__(self):\n",
    "            self._balance = 0\n",
    "\n",
    "        def deposer(self, montant):\n",
    "            if montant > 0:\n",
    "                self._ajuster_balance(montant)\n",
    "\n",
    "        def retirer(self, montant):\n",
    "            if montant > 0 and montant <= self._balance:\n",
    "                self._ajuster_balance(-montant)\n",
    "\n",
    "        def get_balance(self):\n",
    "            return self._balance\n",
    "\n",
    "        def _ajuster_balance(self, montant):\n",
    "            self._balance += montant"
   ]
  },
  {
   "cell_type": "code",
   "execution_count": 14,
   "metadata": {},
   "outputs": [],
   "source": [
    "compte1 = Compte()"
   ]
  },
  {
   "cell_type": "code",
   "execution_count": null,
   "metadata": {},
   "outputs": [],
   "source": [
    "compte."
   ]
  },
  {
   "cell_type": "markdown",
   "metadata": {},
   "source": [
    "The `_` prefix is only a convention, it is still possible to access private methods and attributes from outside the class:"
   ]
  },
  {
   "cell_type": "code",
   "execution_count": 24,
   "metadata": {},
   "outputs": [
    {
     "data": {
      "text/plain": [
       "0"
      ]
     },
     "execution_count": 24,
     "metadata": {},
     "output_type": "execute_result"
    }
   ],
   "source": [
    "    >>> compte = Compte()\n",
    "    >>> compte._balance"
   ]
  },
  {
   "cell_type": "markdown",
   "metadata": {},
   "source": [
    "<div id=\"__ex_1\" class=\"panel panel-default\">\n",
    "\n",
    "<div class=\"panel-heading\">\n",
    "\n",
    "### Exercise 1\n",
    "\n",
    "</div>\n",
    "\n",
    "<div class=\"panel-body\">\n",
    "\n",
    "Correct the following code for the `greet` method to return the expected value."
   ]
  },
  {
   "cell_type": "code",
   "execution_count": 25,
   "metadata": {},
   "outputs": [],
   "source": [
    "    class Person:\n",
    "      def __init__(self, name):\n",
    "        self.name = name\n",
    "\n",
    "      def greet(self, other_name):\n",
    "        return \"Hi {0}, my name is {1}\".format(other_name, name)\n",
    "        "
   ]
  },
  {
   "cell_type": "markdown",
   "metadata": {},
   "source": [
    "</div>\n",
    "\n",
    "</div>\n",
    "\n",
    "<div class=\"panel panel-default\">\n",
    "\n",
    "<div class=\"panel-heading\">\n",
    "\n",
    "### Solution 1\n",
    "\n",
    "</div>\n",
    "\n"
   ]
  },
  {
   "cell_type": "code",
   "execution_count": null,
   "metadata": {},
   "outputs": [],
   "source": [
    "    class Person:\n",
    "      def __init__(self, name):\n",
    "        self.name = name\n",
    "\n",
    "      def greet(self, other_name):\n",
    "        return \"Hi {0}, my name is {1}\".format(other_name, self.nam"
   ]
  },
  {
   "cell_type": "code",
   "execution_count": null,
   "metadata": {},
   "outputs": [],
   "source": []
  },
  {
   "cell_type": "code",
   "execution_count": 26,
   "metadata": {},
   "outputs": [],
   "source": [
    "e)"
   ]
  },
  {
   "cell_type": "markdown",
   "metadata": {},
   "source": [
    "</div>\n",
    "\n",
    "</div>\n",
    "\n",
    "</div>\n",
    "\n",
    "<div id=\"__ex_2\" class=\"panel panel-default\">\n",
    "\n",
    "<div class=\"panel-heading\">\n",
    "\n",
    "### Exercise 2\n",
    "\n",
    "</div>\n",
    "\n",
    "<div class=\"panel-body\">\n",
    "\n",
    "Write and use a class of your choice. Your class must have a constructor, attributes, and methods.\n",
    "\n",
    "\n",
    "\n",
    "\n",
    "## <span class=\"header-section-number\">1.1</span> Special Methods\n",
    "\n",
    "A class can implement certain operations that are called by a special syntax (eg `==, []`). This is Python's approach to overloading operators.\n",
    "\n",
    "We recognize a special method by its prefix and suffix `__`:"
   ]
  },
  {
   "cell_type": "code",
   "execution_count": 19,
   "metadata": {},
   "outputs": [],
   "source": [
    "    import math\n",
    "\n",
    "    class Point:\n",
    "        def __init__(self, x=0, y=0):\n",
    "            self.x = x\n",
    "            self.y = y\n",
    "\n",
    "        def distance_from_origin(self):\n",
    "            return math.hypot(self.x, self.y)\n",
    "\n",
    "        def __eq__(self, other):\n",
    "            return self.x == other.x and self.y == other.y\n",
    "        \n",
    "        def __add__(self, other):\n",
    "            return 'Error points cannot be added'\n",
    "\n",
    "        def __repr__(self):\n",
    "            return \"Point({0.x}, {0.y})\".format(self)\n",
    "\n",
    "p = Point(1, 2)\n",
    "q = Point(4, 3)"
   ]
  },
  {
   "cell_type": "code",
   "execution_count": 20,
   "metadata": {},
   "outputs": [
    {
     "data": {
      "text/plain": [
       "'Error points cannot be added'"
      ]
     },
     "execution_count": 20,
     "metadata": {},
     "output_type": "execute_result"
    }
   ],
   "source": [
    "p + q\n",
    "\n"
   ]
  },
  {
   "cell_type": "code",
   "execution_count": 29,
   "metadata": {},
   "outputs": [
    {
     "data": {
      "text/plain": [
       "False"
      ]
     },
     "execution_count": 29,
     "metadata": {},
     "output_type": "execute_result"
    }
   ],
   "source": [
    "p == q # p.__eq__(q)"
   ]
  },
  {
   "cell_type": "code",
   "execution_count": 30,
   "metadata": {},
   "outputs": [
    {
     "data": {
      "text/plain": [
       "2.23606797749979"
      ]
     },
     "execution_count": 30,
     "metadata": {},
     "output_type": "execute_result"
    }
   ],
   "source": [
    "p.distance_from_origin()"
   ]
  },
  {
   "cell_type": "markdown",
   "metadata": {},
   "source": [
    "List of special methods:\n",
    "[https://docs.python.org/3/reference/datamodel.html#special-method-names](https://docs.python.org/3/reference/datamodel.html#special-method-names)\n",
    "\n",
    "<div id=\"__ex_3\" class=\"panel panel-default\">\n",
    "\n",
    "<div class=\"panel-heading\">\n",
    "\n",
    "### Exercise 3\n",
    "\n",
    "</div>\n",
    "\n",
    "<div class=\"panel-body\">\n",
    "    \n",
    "Write the `Stack` class implementing a [stack] (https://en.wikipedia.org/wiki/Pile_ (computer)). You must implement the following methods:\n",
    "\n",
    "* `push`: add an item to the stack\n",
    "* `pop`: removes the last item added to the stack\n",
    "* `top`: returns the last item added to the stack (without changing the stack)\n",
    "\n",
    "Moreover:\n",
    "\n",
    "* we must be able to obtain the size of the stack with the function `len`\n",
    "* your class must be convertible into a Boolean expression. `False` when the stack is empty,` True` otherwise.\n",
    "\n",
    "It is recommended to use a list to preserve the elements.\n",
    "\n",
    "Example of use:"
   ]
  },
  {
   "cell_type": "code",
   "execution_count": 31,
   "metadata": {},
   "outputs": [
    {
     "data": {
      "text/plain": [
       "(True, 1, 4)"
      ]
     },
     "execution_count": 31,
     "metadata": {},
     "output_type": "execute_result"
    }
   ],
   "source": [
    "    >>> s = Stack()\n",
    "    >>> bool(s), len(s)\n",
    "    (False, 0)\n",
    "    >>> s.push(4)\n",
    "    >>> bool(s), len(s), s.top()\n",
    "    (True, 1, 4)\n",
    "    >>> s.push(8)\n",
    "    >>> bool(s), len(s), s.top()\n",
    "    (True, 2, 8)\n",
    "    >>> s.pop()\n",
    "    8\n",
    "    >>> bool(s), len(s), s.top()\n"
   ]
  },
  {
   "cell_type": "markdown",
   "metadata": {},
   "source": [
    "</div>\n",
    "\n",
    "</div>\n",
    "\n",
    "<div class=\"panel panel-default\">\n",
    "\n",
    "<div class=\"panel-heading\">\n",
    "\n",
    "### Solution 3\n",
    "\n"
   ]
  },
  {
   "cell_type": "code",
   "execution_count": 32,
   "metadata": {},
   "outputs": [],
   "source": [
    "    class Stack:\n",
    "        def __init__(self):\n",
    "            self._stack = []\n",
    "\n",
    "        def push(self, item):\n",
    "            self._stack.append(item)\n",
    "\n",
    "        def pop(self):\n",
    "            return self._stack.pop()\n",
    "\n",
    "        def top(self):\n",
    "            return self._stack[-1]\n",
    "\n",
    "        def __bool__(self):\n",
    "            return bool(self._stack)\n",
    "\n",
    "        def __len__(self):\n",
    "            return len(self._stack)"
   ]
  },
  {
   "cell_type": "markdown",
   "metadata": {},
   "source": [
    "</div>\n",
    "\n",
    "</div>\n",
    "\n",
    "</div>\n",
    "\n",
    "## <span class=\"header-section-number\">1.2</span> Inheritance\n",
    "\n",
    "The syntax for inheritance is:\n",
    "\n",
    "    class <child>(<parent>):\n",
    "    ...\n",
    "\n",
    "For example:"
   ]
  },
  {
   "cell_type": "code",
   "execution_count": 33,
   "metadata": {},
   "outputs": [],
   "source": [
    "    class Circle(Point):\n",
    "        def __init__(self, radius, x=0, y=0):\n",
    "            super().__init__(x, y)\n",
    "            self.radius = radius\n",
    "\n",
    "        def edge_distance_from_origin(self):\n",
    "            return abs(self.distance_from_origin() - self.radius)\n",
    "\n",
    "        def __eq__(self, other):\n",
    "            return self.radius == other.radius and super().__eq__(other)\n",
    "\n",
    "        def __repr__(self):\n",
    "            return \"Circle({0.radius}, {0.x}, {0.y})\".format(self)\n",
    "           "
   ]
  },
  {
   "cell_type": "markdown",
   "metadata": {},
   "source": [
    "Note that we use the `super` method to refer to a method or attribute of the parent class when the child class redefines that method or attribute (e.g` __init__` and `__eq__`).\n",
    "\n",
    "<div class=\"panel panel-warning\">\n",
    "\n",
    "<div class=\"panel-heading\">\n",
    "\n",
    "### Python 2\n",
    "\n",
    "</div>\n",
    "\n",
    "<div class=\"panel-body\">\n",
    "\n",
    "We must pass the type and the object to `super`:"
   ]
  },
  {
   "cell_type": "markdown",
   "metadata": {},
   "source": [
    "    super(Circle, self)\n",
    "\n",
    "</div>\n",
    "\n",
    "</div>\n",
    "\n",
    "## <span class=\"header-section-number\">1.3</span> Class and static methods\n",
    "\n",
    "A class method is associated with a class. Similar to a method that takes the object as a parameter, a class method takes the class as a parameter."
   ]
  },
  {
   "cell_type": "code",
   "execution_count": 34,
   "metadata": {},
   "outputs": [
    {
     "data": {
      "text/plain": [
       "15"
      ]
     },
     "execution_count": 34,
     "metadata": {},
     "output_type": "execute_result"
    }
   ],
   "source": [
    "    class Multiplicateur:\n",
    "        facteur = 3\n",
    "\n",
    "        @classmethod\n",
    "        def multiplier(cls, x):\n",
    "            return cls.facteur * x\n",
    "\n",
    "m = Multiplicateur()\n",
    "m.multiplier(5)"
   ]
  },
  {
   "cell_type": "markdown",
   "metadata": {},
   "source": [
    "<div class=\"panel panel-primary\">\n",
    "\n",
    "<div class=\"panel-body\">\n",
    "\n",
    "The `@` symbol indicates the use of a [decorator] (https://docs.python.org/3/glossary.html#term-decorator). A decorator modifies the function that follows it. For example, the `multiply` method is modified by the` classmethod` decorator.\n",
    "\n",
    "</div>\n",
    "\n",
    "</div>\n",
    "\n",
    "A static method is similar to a class method. The difference is that it does not receive the class parameter."
   ]
  },
  {
   "cell_type": "code",
   "execution_count": 35,
   "metadata": {},
   "outputs": [
    {
     "name": "stdout",
     "output_type": "stream",
     "text": [
      "Bonjour Alex\n"
     ]
    }
   ],
   "source": [
    "    class Bonjour:\n",
    "\n",
    "        @staticmethod\n",
    "        def saluer(nom):\n",
    "            print(\"Bonjour\", nom)\n",
    "\n",
    "Bonjour.saluer(\"Alex\")"
   ]
  },
  {
   "cell_type": "code",
   "execution_count": null,
   "metadata": {},
   "outputs": [],
   "source": []
  },
  {
   "cell_type": "code",
   "execution_count": null,
   "metadata": {},
   "outputs": [],
   "source": []
  }
 ],
 "metadata": {
  "kernelspec": {
   "display_name": "Python 3",
   "language": "python",
   "name": "python3"
  },
  "language_info": {
   "codemirror_mode": {
    "name": "ipython",
    "version": 3
   },
   "file_extension": ".py",
   "mimetype": "text/x-python",
   "name": "python",
   "nbconvert_exporter": "python",
   "pygments_lexer": "ipython3",
   "version": "3.7.3"
  }
 },
 "nbformat": 4,
 "nbformat_minor": 4
}
