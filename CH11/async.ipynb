{
 "cells": [
  {
   "cell_type": "markdown",
   "metadata": {},
   "source": [
    "# Asynchronous Programming"
   ]
  },
  {
   "cell_type": "markdown",
   "metadata": {},
   "source": []
  },
  {
   "cell_type": "code",
   "execution_count": 1,
   "metadata": {},
   "outputs": [
    {
     "name": "stdout",
     "output_type": "stream",
     "text": [
      "Collecting aiohttp\n",
      "\u001b[?25l  Downloading https://files.pythonhosted.org/packages/e3/71/6000eacb8923d9fd07aa8784a8fab4f022ae697f3c2456d7dca75c743dd6/aiohttp-3.6.2-cp37-cp37m-manylinux1_x86_64.whl (1.2MB)\n",
      "\u001b[K     |████████████████████████████████| 1.2MB 3.2MB/s eta 0:00:01\n",
      "\u001b[?25hCollecting multidict<5.0,>=4.5 (from aiohttp)\n",
      "\u001b[?25l  Downloading https://files.pythonhosted.org/packages/88/f0/4d4cbd1a3744e3985efa49682352d0703df653ffa76b81f10fed86599a50/multidict-4.5.2-cp37-cp37m-manylinux1_x86_64.whl (309kB)\n",
      "\u001b[K     |████████████████████████████████| 317kB 59.4MB/s eta 0:00:01\n",
      "\u001b[?25hCollecting yarl<2.0,>=1.0 (from aiohttp)\n",
      "\u001b[?25l  Downloading https://files.pythonhosted.org/packages/fb/84/6d82f6be218c50b547aa29d0315e430cf8a23c52064c92d0a8377d7b7357/yarl-1.3.0.tar.gz (159kB)\n",
      "\u001b[K     |████████████████████████████████| 163kB 56.7MB/s eta 0:00:01\n",
      "\u001b[?25hCollecting async-timeout<4.0,>=3.0 (from aiohttp)\n",
      "  Downloading https://files.pythonhosted.org/packages/e1/1e/5a4441be21b0726c4464f3f23c8b19628372f606755a9d2e46c187e65ec4/async_timeout-3.0.1-py3-none-any.whl\n",
      "Requirement already satisfied: chardet<4.0,>=2.0 in /opt/conda/lib/python3.7/site-packages (from aiohttp) (3.0.4)\n",
      "Requirement already satisfied: attrs>=17.3.0 in /opt/conda/lib/python3.7/site-packages (from aiohttp) (19.1.0)\n",
      "Requirement already satisfied: idna>=2.0 in /opt/conda/lib/python3.7/site-packages (from yarl<2.0,>=1.0->aiohttp) (2.8)\n",
      "Building wheels for collected packages: yarl\n",
      "  Building wheel for yarl (setup.py) ... \u001b[?25ldone\n",
      "\u001b[?25h  Created wheel for yarl: filename=yarl-1.3.0-cp37-cp37m-linux_x86_64.whl size=235995 sha256=e2e98d4b0684d83ab9a9298019be09c11406ff7863fb007bf6eb4c372c123da3\n",
      "  Stored in directory: /home/jovyan/.cache/pip/wheels/e3/f0/13/d7c1c5cd76ef321fb635ce79232ca973cd0c91fabaaa71e1c7\n",
      "Successfully built yarl\n",
      "Installing collected packages: multidict, yarl, async-timeout, aiohttp\n",
      "Successfully installed aiohttp-3.6.2 async-timeout-3.0.1 multidict-4.5.2 yarl-1.3.0\n"
     ]
    }
   ],
   "source": [
    "!pip install aiohttp"
   ]
  },
  {
   "cell_type": "code",
   "execution_count": 2,
   "metadata": {
    "collapsed": true,
    "jupyter": {
     "outputs_hidden": true
    }
   },
   "outputs": [],
   "source": [
    "gists = ['https://gist.github.com/recluze/1d2989c7e345c8c3c542', \n",
    "        'https://gist.github.com/recluze/a98aa1804884ca3b3ad3', \n",
    "        'https://gist.github.com/recluze/5051735efe3fc189b90d', \n",
    "        'https://gist.github.com/recluze/460157afc6a7492555bb', \n",
    "        'https://gist.github.com/recluze/5051735efe3fc189b90d', \n",
    "        'https://gist.github.com/recluze/c9bc4130af995c36176d']"
   ]
  },
  {
   "cell_type": "code",
   "execution_count": 3,
   "metadata": {
    "collapsed": true,
    "jupyter": {
     "outputs_hidden": true
    }
   },
   "outputs": [],
   "source": [
    "import asyncio\n",
    "import aiohttp"
   ]
  },
  {
   "cell_type": "code",
   "execution_count": null,
   "metadata": {
    "collapsed": true,
    "jupyter": {
     "outputs_hidden": true
    }
   },
   "outputs": [],
   "source": [
    "async def get_gist(url):\n",
    "    print('GET: ', url)\n",
    "\n",
    "    async with aiohttp.ClientSession() as session:\n",
    "         async with session.get(url) as response:\n",
    "            page_text = await response.text()            # Our culprit \n",
    "            g_length = len(page_text)\n",
    "            print(\"Len: %d\" % g_length)"
   ]
  },
  {
   "cell_type": "code",
   "execution_count": null,
   "metadata": {
    "collapsed": true,
    "jupyter": {
     "outputs_hidden": true
    }
   },
   "outputs": [],
   "source": [
    "\n",
    "\n",
    "\n",
    "\n",
    "\n"
   ]
  },
  {
   "cell_type": "code",
   "execution_count": 4,
   "metadata": {
    "collapsed": true,
    "jupyter": {
     "outputs_hidden": true
    }
   },
   "outputs": [],
   "source": [
    "async def get_gist(url):                           # Asynchronous \n",
    "    print('GET: ', url)\n",
    "    \n",
    "    async with aiohttp.ClientSession() as session: # Asynchronous \n",
    "        async with session.get(url) as response:   # Asynchronous \n",
    "            page_text = await response.text()      # Our culprit -- now we only have to define where we DO want to break \n",
    "            g_length = len(page_text)\n",
    "            print(\"Len: %d\" % g_length)\n",
    "            return g_length                        # return value "
   ]
  },
  {
   "cell_type": "code",
   "execution_count": 5,
   "metadata": {
    "collapsed": true,
    "jupyter": {
     "outputs_hidden": true
    }
   },
   "outputs": [],
   "source": [
    "# Set the loop up \n",
    "asyncio.set_event_loop(asyncio.new_event_loop())   # An event loop runs async tasks \n",
    "loop = asyncio.get_event_loop()    "
   ]
  },
  {
   "cell_type": "code",
   "execution_count": 6,
   "metadata": {
    "collapsed": true,
    "jupyter": {
     "outputs_hidden": true
    }
   },
   "outputs": [],
   "source": [
    "# Add tasks to run \n",
    "tasks = [] \n",
    "for g in gists: \n",
    "    future = asyncio.ensure_future(   get_gist(g)   ) \n",
    "    tasks.append(future) # save it for later reference "
   ]
  },
  {
   "cell_type": "markdown",
   "metadata": {},
   "source": [
    "We're not running anything til now! "
   ]
  },
  {
   "cell_type": "code",
   "execution_count": 7,
   "metadata": {},
   "outputs": [
    {
     "name": "stdout",
     "output_type": "stream",
     "text": [
      "GET:  https://gist.github.com/recluze/1d2989c7e345c8c3c542\n",
      "GET:  https://gist.github.com/recluze/a98aa1804884ca3b3ad3\n",
      "GET:  https://gist.github.com/recluze/5051735efe3fc189b90d\n",
      "GET:  https://gist.github.com/recluze/460157afc6a7492555bb\n",
      "GET:  https://gist.github.com/recluze/5051735efe3fc189b90d\n",
      "GET:  https://gist.github.com/recluze/c9bc4130af995c36176d\n",
      "Len: 40539\n",
      "Len: 228541\n",
      "Len: 40539\n",
      "Len: 106614\n",
      "Len: 43951\n",
      "Len: 62647\n",
      "CPU times: user 156 ms, sys: 127 ms, total: 283 ms\n",
      "Wall time: 2.09 s\n"
     ]
    },
    {
     "data": {
      "text/plain": [
       "({<Task finished coro=<get_gist() done, defined at <ipython-input-4-0a555373ce48>:1> result=62647>,\n",
       "  <Task finished coro=<get_gist() done, defined at <ipython-input-4-0a555373ce48>:1> result=40539>,\n",
       "  <Task finished coro=<get_gist() done, defined at <ipython-input-4-0a555373ce48>:1> result=43951>,\n",
       "  <Task finished coro=<get_gist() done, defined at <ipython-input-4-0a555373ce48>:1> result=228541>,\n",
       "  <Task finished coro=<get_gist() done, defined at <ipython-input-4-0a555373ce48>:1> result=40539>,\n",
       "  <Task finished coro=<get_gist() done, defined at <ipython-input-4-0a555373ce48>:1> result=106614>},\n",
       " set())"
      ]
     },
     "execution_count": 7,
     "metadata": {},
     "output_type": "execute_result"
    }
   ],
   "source": [
    "# Go! \n",
    "%time loop.run_until_complete(asyncio.wait(tasks))"
   ]
  },
  {
   "cell_type": "code",
   "execution_count": 8,
   "metadata": {
    "collapsed": true,
    "jupyter": {
     "outputs_hidden": true
    }
   },
   "outputs": [],
   "source": [
    "# Housekeeping \n",
    "loop.close()"
   ]
  },
  {
   "cell_type": "code",
   "execution_count": 9,
   "metadata": {},
   "outputs": [
    {
     "data": {
      "text/plain": [
       "228541"
      ]
     },
     "execution_count": 9,
     "metadata": {},
     "output_type": "execute_result"
    }
   ],
   "source": [
    "tasks[0].result()   # After the loop is done, we can get the return values "
   ]
  },
  {
   "cell_type": "code",
   "execution_count": null,
   "metadata": {
    "collapsed": true,
    "jupyter": {
     "outputs_hidden": true
    }
   },
   "outputs": [],
   "source": []
  }
 ],
 "metadata": {
  "kernelspec": {
   "display_name": "Python 3",
   "language": "python",
   "name": "python3"
  },
  "language_info": {
   "codemirror_mode": {
    "name": "ipython",
    "version": 3
   },
   "file_extension": ".py",
   "mimetype": "text/x-python",
   "name": "python",
   "nbconvert_exporter": "python",
   "pygments_lexer": "ipython3",
   "version": "3.7.3"
  }
 },
 "nbformat": 4,
 "nbformat_minor": 4
}
